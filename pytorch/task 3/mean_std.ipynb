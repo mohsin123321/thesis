{
  "cells": [
    {
      "cell_type": "code",
      "execution_count": 1,
      "metadata": {
        "id": "kihBq4xz7pPR"
      },
      "outputs": [],
      "source": [
        "import torch\n",
        "from torch.utils.data import Dataset\n",
        "import torchvision.transforms as transforms\n",
        "import os\n",
        "from PIL import Image\n",
        "from torch.utils.data import DataLoader\n",
        "import numpy as np\n",
        "import yaml"
      ]
    },
    {
      "cell_type": "code",
      "execution_count": 2,
      "metadata": {
        "id": "9sZLbBJF_LV1"
      },
      "outputs": [],
      "source": [
        "def set_seed(seed):\n",
        "    torch.manual_seed(seed)\n",
        "    np.random.seed(seed)\n",
        "\n",
        "    # for cuda\n",
        "    torch.cuda.manual_seed_all(seed)\n",
        "    torch.backends.cudnn.deterministic = True"
      ]
    },
    {
      "cell_type": "code",
      "execution_count": 3,
      "metadata": {
        "id": "VZJVX-zE_NZT"
      },
      "outputs": [],
      "source": [
        "set_seed(0)"
      ]
    },
    {
      "cell_type": "code",
      "execution_count": 4,
      "metadata": {
        "id": "GIOIZsGL7pPT"
      },
      "outputs": [],
      "source": [
        "def extract_files():\n",
        "    import google.colab\n",
        "    import zipfile\n",
        "\n",
        "    google.colab.drive.mount('/content/drive')\n",
        "    PROJECT_DIR = \"/content/drive/MyDrive/thesis/data/\"\n",
        "\n",
        "    zip_ref = zipfile.ZipFile(PROJECT_DIR + \"fiveK.zip\", 'r')\n",
        "    zip_ref.extractall(\".\")\n",
        "    zip_ref.close()"
      ]
    },
    {
      "cell_type": "code",
      "execution_count": 5,
      "metadata": {
        "colab": {
          "base_uri": "https://localhost:8080/"
        },
        "id": "q-xgkpSz7pPT",
        "outputId": "6a085812-b745-4341-cce7-3f99157151e8"
      },
      "outputs": [],
      "source": [
        "if 'google.colab' in str(get_ipython()):\n",
        "  extract_files()\n",
        "  config_path = \"/content/drive/MyDrive/thesis/config.yaml\"\n",
        "else:\n",
        "  config_path = \"../../config.yaml\""
      ]
    },
    {
      "cell_type": "code",
      "execution_count": 6,
      "metadata": {
        "colab": {
          "base_uri": "https://localhost:8080/"
        },
        "id": "Xq_pxLkW7pPU",
        "outputId": "3c61d451-9b5e-42fb-83b7-e242bbd11065"
      },
      "outputs": [
        {
          "name": "stdout",
          "output_type": "stream",
          "text": [
            "cpu\n"
          ]
        }
      ],
      "source": [
        "device = torch.device('cuda:0' if torch.cuda.is_available() else 'cpu')\n",
        "print(device)"
      ]
    },
    {
      "cell_type": "code",
      "execution_count": 7,
      "metadata": {
        "id": "fcvBcXWZ7pPV"
      },
      "outputs": [],
      "source": [
        "# List of class directories\n",
        "class_directories = ['expA', 'expB', 'expC', 'expD', 'expE']\n",
        "# raw data directory\n",
        "raw_dir = \"raw\""
      ]
    },
    {
      "cell_type": "code",
      "execution_count": 8,
      "metadata": {
        "id": "-lwHOaC57pPV"
      },
      "outputs": [],
      "source": [
        "class CustomDataset(Dataset):\n",
        "    def __init__(self, data_dir, raw_data_dir, filename, transform=None):\n",
        "        super().__init__()\n",
        "        self.filename = filename\n",
        "        self.transform = transform\n",
        "\n",
        "        self.classname = self._extract_class_name(data_dir)\n",
        "        self.encode = {k: i for i, k in enumerate(class_directories)}\n",
        "\n",
        "\n",
        "        # Read the train.txt file and store the image paths\n",
        "        with open(self.filename) as f:\n",
        "            img_paths= []\n",
        "            raw_img_paths = []\n",
        "            for line in f:\n",
        "                line = line.strip()\n",
        "                img_paths.append(os.path.join(data_dir, line))\n",
        "                raw_img_paths.append(os.path.join(raw_data_dir, line))\n",
        "\n",
        "            self.image_paths = img_paths\n",
        "            self.raw_image_paths = raw_img_paths\n",
        "\n",
        "    def __len__(self):\n",
        "        return len(self.image_paths)\n",
        "\n",
        "    def __getitem__(self, index):\n",
        "        image_path = self.image_paths[index]\n",
        "        raw_image_path = self.raw_image_paths[index]\n",
        "        image = Image.open(image_path)\n",
        "        raw_image = Image.open(raw_image_path)\n",
        "        image = np.dstack((np.array(image), np.array(raw_image)))\n",
        "        label = self.encode[self.classname]\n",
        "        if self.transform is not None:\n",
        "            image = self.transform(image)\n",
        "        return image, label\n",
        "\n",
        "    def _extract_class_name(self, root_dir):\n",
        "        # Extract the class name from the root directory\n",
        "        class_name = os.path.basename(root_dir)\n",
        "        return class_name"
      ]
    },
    {
      "cell_type": "code",
      "execution_count": 9,
      "metadata": {
        "id": "FrmFUY187pPW"
      },
      "outputs": [],
      "source": [
        "try:\n",
        "    # Load configuration\n",
        "    with open(config_path, 'r') as config_file:\n",
        "        config = yaml.safe_load(config_file)\n",
        "except:\n",
        "    raise FileNotFoundError(f\"Config file not found at path: {config_path}\")"
      ]
    },
    {
      "cell_type": "code",
      "execution_count": 10,
      "metadata": {
        "id": "sfB-FLHU7pPW"
      },
      "outputs": [],
      "source": [
        "data_folder = config['paths']['data']\n",
        "train_file = config['paths']['train']\n",
        "test_file = config['paths']['test']"
      ]
    },
    {
      "cell_type": "code",
      "execution_count": 11,
      "metadata": {
        "id": "3mnVbj1r7pPX"
      },
      "outputs": [],
      "source": [
        "def read_dataset(data_folder, txt_file, trasform=None):\n",
        "    # Create separate datasets for each class\n",
        "    datasets = []\n",
        "\n",
        "    for class_dir in class_directories:\n",
        "        class_train_dataset = CustomDataset(\n",
        "            data_dir=os.path.join(data_folder, class_dir),\n",
        "            raw_data_dir=os.path.join(data_folder, raw_dir),\n",
        "            filename=os.path.join(txt_file),\n",
        "            transform=trasform\n",
        "        )\n",
        "        datasets.append(class_train_dataset)\n",
        "    return datasets"
      ]
    },
    {
      "cell_type": "code",
      "execution_count": 12,
      "metadata": {
        "id": "dMxtX6EV7pPX"
      },
      "outputs": [],
      "source": [
        "training_tr = transforms.Compose([\n",
        "        transforms.ToTensor(),\n",
        "    ])"
      ]
    },
    {
      "cell_type": "code",
      "execution_count": 13,
      "metadata": {
        "id": "V19czAze7pPY"
      },
      "outputs": [],
      "source": [
        "# Combine datasets if needed (e.g., for training)\n",
        "train_dataset = torch.utils.data.ConcatDataset(read_dataset(data_folder, train_file, training_tr))"
      ]
    },
    {
      "cell_type": "code",
      "execution_count": 14,
      "metadata": {
        "id": "E1DOhYZq7pPY"
      },
      "outputs": [],
      "source": [
        "bs = 128"
      ]
    },
    {
      "cell_type": "code",
      "execution_count": 15,
      "metadata": {
        "id": "g1g-fjHW7pPY"
      },
      "outputs": [],
      "source": [
        "train_dataloader = DataLoader(train_dataset, batch_size=bs, shuffle=False)"
      ]
    },
    {
      "cell_type": "code",
      "execution_count": 16,
      "metadata": {
        "id": "f6Nrb1lW7pPZ"
      },
      "outputs": [],
      "source": [
        "train_features, train_labels = next(iter(train_dataloader))"
      ]
    },
    {
      "cell_type": "code",
      "execution_count": 17,
      "metadata": {
        "id": "gZROMfGu7pPd"
      },
      "outputs": [],
      "source": [
        "def get_mean_std():\n",
        "    # Iterate over data.\n",
        "    mean = 0.\n",
        "    std = 0.\n",
        "    nb_samples = 0\n",
        "    for imgs, _ in train_dataloader:\n",
        "        mean += imgs.mean(dim=(2, 3)).sum(0)\n",
        "        std += imgs.std(dim=(2, 3)).sum(0)\n",
        "        nb_samples += imgs.size(0)\n",
        "\n",
        "    mean /= nb_samples\n",
        "    std /= nb_samples\n",
        "    return mean, std"
      ]
    },
    {
      "cell_type": "code",
      "execution_count": 18,
      "metadata": {},
      "outputs": [
        {
          "name": "stdout",
          "output_type": "stream",
          "text": [
            "Mean tensor([0.4370, 0.4253, 0.3951, 0.2275, 0.2063, 0.1902]), Std tensor([0.2300, 0.2207, 0.2411, 0.1219, 0.1145, 0.1201])\n"
          ]
        }
      ],
      "source": [
        "mean, std = get_mean_std()\n",
        "print(f\"Mean {mean}, Std {std}\")"
      ]
    }
  ],
  "metadata": {
    "accelerator": "GPU",
    "colab": {
      "gpuType": "T4",
      "machine_shape": "hm",
      "provenance": []
    },
    "kernelspec": {
      "display_name": "Python 3",
      "name": "python3"
    },
    "language_info": {
      "codemirror_mode": {
        "name": "ipython",
        "version": 3
      },
      "file_extension": ".py",
      "mimetype": "text/x-python",
      "name": "python",
      "nbconvert_exporter": "python",
      "pygments_lexer": "ipython3",
      "version": "3.11.3"
    }
  },
  "nbformat": 4,
  "nbformat_minor": 0
}
