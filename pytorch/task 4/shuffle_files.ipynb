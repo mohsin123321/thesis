{
 "cells": [
  {
   "cell_type": "code",
   "execution_count": 12,
   "metadata": {},
   "outputs": [],
   "source": [
    "import os\n",
    "import random\n",
    "import shutil\n",
    "\n",
    "# Path to the folder containing merged images\n",
    "data = \"../data/experiment\"\n",
    "\n",
    "shuffle_folder = \"../data/experiment/shuffled\"\n",
    "\n",
    "if not os.path.exists(shuffle_folder):\n",
    "    os.makedirs(shuffle_folder)\n",
    "\n",
    "# List all class folders\n",
    "class_folders = os.listdir(data)"
   ]
  },
  {
   "cell_type": "code",
   "execution_count": 13,
   "metadata": {},
   "outputs": [],
   "source": [
    "# Initialize a list to store all image paths\n",
    "all_image_paths = []\n",
    "\n",
    "for class_folder in class_folders:\n",
    "    class_folder_path = os.path.join(data, class_folder)\n",
    "    \n",
    "    image_files = os.listdir(class_folder_path)\n",
    "    \n",
    "    for image_file in image_files:\n",
    "        image_path = os.path.join(class_folder_path, image_file)\n",
    "        \n",
    "        all_image_paths.append((image_path, class_folder))\n",
    "        \n",
    "random.shuffle(all_image_paths)"
   ]
  },
  {
   "cell_type": "code",
   "execution_count": 14,
   "metadata": {},
   "outputs": [],
   "source": [
    "\n",
    "for i, (image_path, class_label) in enumerate(all_image_paths):\n",
    "    new_filename = f\"{i+1}_{class_label}.png\"\n",
    "\n",
    "    shuffled_image_path = os.path.join(shuffle_folder, new_filename)\n",
    "    shutil.copy(image_path, shuffled_image_path)"
   ]
  },
  {
   "cell_type": "code",
   "execution_count": null,
   "metadata": {},
   "outputs": [],
   "source": []
  }
 ],
 "metadata": {
  "kernelspec": {
   "display_name": "Python 3",
   "language": "python",
   "name": "python3"
  },
  "language_info": {
   "codemirror_mode": {
    "name": "ipython",
    "version": 3
   },
   "file_extension": ".py",
   "mimetype": "text/x-python",
   "name": "python",
   "nbconvert_exporter": "python",
   "pygments_lexer": "ipython3",
   "version": "3.11.3"
  }
 },
 "nbformat": 4,
 "nbformat_minor": 2
}
