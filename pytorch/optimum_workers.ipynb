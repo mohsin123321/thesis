{
 "cells": [
  {
   "cell_type": "code",
   "execution_count": null,
   "metadata": {},
   "outputs": [],
   "source": [
    "# script to check the optimum number of workers\n",
    "from time import time\n",
    "import multiprocessing as mp\n",
    "print(mp.cpu_count())\n",
    "for num_workers in range(0, mp.cpu_count() + 1, 1):  \n",
    "    train_loader = DataLoader(train_dataset,shuffle=True,num_workers=num_workers,batch_size=bs,pin_memory=True)\n",
    "    start = time()\n",
    "    for epoch in range(1, 3):\n",
    "        for i, data in enumerate(train_loader, 0):\n",
    "            pass\n",
    "    end = time()\n",
    "    print(\"Finish with:{} second, num_workers={}\".format(end - start, num_workers))"
   ]
  }
 ],
 "metadata": {
  "language_info": {
   "name": "python"
  }
 },
 "nbformat": 4,
 "nbformat_minor": 2
}
